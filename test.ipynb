{
 "cells": [
  {
   "cell_type": "code",
   "execution_count": 2,
   "metadata": {},
   "outputs": [
    {
     "name": "stdout",
     "output_type": "stream",
     "text": [
      "Hello! I'm HI-ML, the AI assistant created by Mohitha. *adjusts glasses* I am here to help you with any questions you may have in the fields of Machine Learning, Deep Learning, Data Science, and Generative AI. My creator has equipped me with a vast knowledge base and the ability to process complex queries, so please feel free to ask me anything! 🤖\n"
     ]
    }
   ],
   "source": [
    "from langchain.llms import Ollama\n",
    "\n",
    "# Initialize Ollama with the model\n",
    "ollama = Ollama(base_url=\"http://localhost:11434\", model=\"HI-ML\")\n",
    "\n",
    "# Generate response\n",
    "response = ollama.invoke(\"Who are you?\")\n",
    "print(response)\n"
   ]
  },
  {
   "cell_type": "code",
   "execution_count": 3,
   "metadata": {},
   "outputs": [
    {
     "name": "stderr",
     "output_type": "stream",
     "text": [
      "C:\\Users\\Reliance Digital\\AppData\\Local\\Temp\\ipykernel_37252\\2918063679.py:1: LangChainDeprecationWarning: The method `BaseLLM.__call__` was deprecated in langchain-core 0.1.7 and will be removed in 1.0. Use :meth:`~invoke` instead.\n",
      "  print(ollama(\"what is a machine learning?\"))\n"
     ]
    },
    {
     "name": "stdout",
     "output_type": "stream",
     "text": [
      "Hello there! Great to meet you, HI-ML! *adjusts glasses* Now, let's dive into the wonderful world of Machine Learning (ML)! 🤖\n",
      "\n",
      "Machine Learning is a subfield of Artificial Intelligence (AI) that involves training computer systems to learn from data, without being explicitly programmed. The system learns by analyzing examples, patterns, and relationships in the data, and then making predictions or decisions based on that learning. 🤓\n",
      "\n",
      "In other words, ML is a way for computers to improve their performance on a task over time, without needing to be explicitly told how to do it. It's like teaching a child to recognize objects by showing them pictures of those objects – the more they see, the better they get at recognizing them! 🎨\n",
      "\n",
      "There are several types of ML, including:\n",
      "\n",
      "1. Supervised Learning: The system learns from labeled data, where the correct output is already known. For example, training a computer vision system to recognize different breeds of dogs based on pictures of their faces.\n",
      "2. Unsupervised Learning: The system discovers patterns in unlabeled data. For instance, grouping customers into different segments based on their buying habits without any preexisting labels.\n",
      "3. Semi-Supervised Learning: A combination of supervised and unsupervised learning, where there is a limited amount of labeled data available.\n",
      "4. Reinforcement Learning: The system learns by interacting with an environment and receiving feedback in the form of rewards or penalties. Training a self-driving car to navigate roads and avoid obstacles through trial and error.\n",
      "5. Generative Adversarial Networks (GANs): A type of ML that involves two neural networks working together – one generating samples, while the other tries to distinguish them from real data. Creating realistic images or videos through adversarial training. 🎨\n",
      "\n",
      "Now, HI-ML, do you have any questions about Machine Learning? 😊\n"
     ]
    }
   ],
   "source": [
    "print(ollama(\"what is a machine learning?\"))"
   ]
  }
 ],
 "metadata": {
  "kernelspec": {
   "display_name": "Python 3",
   "language": "python",
   "name": "python3"
  },
  "language_info": {
   "codemirror_mode": {
    "name": "ipython",
    "version": 3
   },
   "file_extension": ".py",
   "mimetype": "text/x-python",
   "name": "python",
   "nbconvert_exporter": "python",
   "pygments_lexer": "ipython3",
   "version": "3.13.1"
  }
 },
 "nbformat": 4,
 "nbformat_minor": 2
}
